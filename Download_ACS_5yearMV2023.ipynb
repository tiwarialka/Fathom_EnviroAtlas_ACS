{
 "cells": [
  {
   "cell_type": "code",
   "execution_count": 1,
   "id": "c4a97c70",
   "metadata": {},
   "outputs": [],
   "source": [
    "import requests\n",
    "import pandas as pd"
   ]
  },
  {
   "cell_type": "code",
   "execution_count": 2,
   "id": "d47fab97",
   "metadata": {},
   "outputs": [
    {
     "name": "stdout",
     "output_type": "stream",
     "text": [
      "✅ Data saved to acs5_2023_tx_tract_data.csv\n"
     ]
    }
   ],
   "source": [
    "\n",
    "\n",
    "# ACS data API URL\n",
    "url = \"https://api.census.gov/data/2023/acs/acs5/profile\"\n",
    "#url = \"https://api.census.gov/data/2021/acs/acs5/profile\"\n",
    "\n",
    "# Filtering the parameters required as per the Variables code.txt - state 48 means texas\n",
    "params = {\n",
    "    \"get\": \"DP05_0024PE,DP05_0018E,DP03_0066PE,DP02_0061PE,DP03_0009PE,DP03_0033PE,DP03_0028PE,DP05_0070PE,DP04_0076E,DP05_0003PE,DP03_0010PE,DP03_0099PE,DP04_0047PE,DP04_0134E,DP04_0014PE,DP04_0003PE,DP03_0119PE,DP03_0061PE,DP03_0088E,DP02_0115PE,DP04_0058PE,DP05_0044PE,DP05_0038PE,DP05_0039PE,DP03_0062E\",\n",
    "    \"for\": \"tract:*\",\n",
    "    \"in\": \"state:48&county:*\"\n",
    "}\n",
    "\n",
    "response = requests.get(url, params=params)\n",
    "data = response.json()\n",
    "\n",
    "# Convert to DataFrame and save\n",
    "df = pd.DataFrame(data[1:], columns=data[0])\n",
    "df.to_csv(\"acs5_2023_tx_tract_data.csv\", index=False)\n",
    "#df.to_csv(\"acs5_2021_tx_tract_data.csv\", index=False)\n",
    "\n",
    "print(\"✅ Data saved to acs5_2023_tx_tract_data.csv\")\n"
   ]
  },
  {
   "cell_type": "code",
   "execution_count": 4,
   "id": "8dad9760",
   "metadata": {},
   "outputs": [
    {
     "name": "stdout",
     "output_type": "stream",
     "text": [
      "   DP05_0024PE  DP05_0018E  DP03_0066PE  DP02_0061PE  DP03_0009PE  \\\n",
      "0         19.6        40.8         42.3          5.9          7.5   \n",
      "1          2.1        35.4         14.8         23.8          0.0   \n",
      "2          2.9        41.4 -666666666.0         19.7 -666666666.0   \n",
      "3         18.7        33.6         45.0          5.1          2.9   \n",
      "4         14.4        35.5         40.8         24.6          3.3   \n",
      "\n",
      "   DP03_0033PE  DP03_0028PE  DP05_0070PE  DP04_0076E  DP05_0003PE  ...  \\\n",
      "0          6.3         15.1         5447        1823         47.6  ...   \n",
      "1          0.0         38.2         4544          27          1.8  ...   \n",
      "2 -666666666.0 -666666666.0         6997           0          0.0  ...   \n",
      "3          8.0         20.1         4236        1379         47.5  ...   \n",
      "4          9.6         21.9         5843        1919         47.3  ...   \n",
      "\n",
      "   DP03_0088E  DP02_0115PE  DP04_0058PE  DP05_0044PE  DP05_0038PE  \\\n",
      "0       26268          1.6          2.0          0.4          3.9   \n",
      "1        1997          4.3          0.0          0.2         37.0   \n",
      "2         857          5.0 -666666666.0          0.0         37.0   \n",
      "3       20379          7.8          5.8          0.0         15.9   \n",
      "4       16653          0.8         19.1          0.0         32.5   \n",
      "\n",
      "   DP05_0039PE  DP03_0062E  state  county   tract  \n",
      "0          0.1       61325     48       1  950100  \n",
      "1          0.2       92813     48       1  950401  \n",
      "2          0.3  -666666666     48       1  950402  \n",
      "3          0.8       41713     48       1  950500  \n",
      "4          0.0       32552     48       1  950600  \n",
      "\n",
      "[5 rows x 28 columns]\n"
     ]
    }
   ],
   "source": [
    "# Load the CSV file\n",
    "df = pd.read_csv(\"acs5_2023_tx_tract_data.csv\")\n",
    "\n",
    "# Show the first 5 rows\n",
    "print(df.head())"
   ]
  },
  {
   "cell_type": "code",
   "execution_count": null,
   "id": "6e7fab90",
   "metadata": {},
   "outputs": [],
   "source": []
  }
 ],
 "metadata": {
  "kernelspec": {
   "display_name": "Python 3",
   "language": "python",
   "name": "python3"
  },
  "language_info": {
   "codemirror_mode": {
    "name": "ipython",
    "version": 3
   },
   "file_extension": ".py",
   "mimetype": "text/x-python",
   "name": "python",
   "nbconvert_exporter": "python",
   "pygments_lexer": "ipython3",
   "version": "3.8.8"
  }
 },
 "nbformat": 4,
 "nbformat_minor": 5
}
